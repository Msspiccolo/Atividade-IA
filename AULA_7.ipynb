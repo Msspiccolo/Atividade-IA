{
  "nbformat": 4,
  "nbformat_minor": 0,
  "metadata": {
    "colab": {
      "provenance": [],
      "authorship_tag": "ABX9TyOUImKblL68GizF1ms4wSs6",
      "include_colab_link": true
    },
    "kernelspec": {
      "name": "python3",
      "display_name": "Python 3"
    },
    "language_info": {
      "name": "python"
    }
  },
  "cells": [
    {
      "cell_type": "markdown",
      "metadata": {
        "id": "view-in-github",
        "colab_type": "text"
      },
      "source": [
        "<a href=\"https://colab.research.google.com/github/Msspiccolo/Atividade-IA/blob/main/AULA_7.ipynb\" target=\"_parent\"><img src=\"https://colab.research.google.com/assets/colab-badge.svg\" alt=\"Open In Colab\"/></a>"
      ]
    },
    {
      "cell_type": "code",
      "execution_count": null,
      "metadata": {
        "id": "yKOhMXY0ZHTk"
      },
      "outputs": [],
      "source": [
        "import heapq"
      ]
    },
    {
      "cell_type": "code",
      "source": [
        "def greedy_search(graph, start, goal):\n",
        "    visited = set()\n",
        "    priority_queue = [(0, start)]  # Inicializa a fila de prioridade com o nó inicial e custo zero\n",
        "    while priority_queue:\n",
        "        cost, current_node = heapq.heappop(priority_queue)  # Remove o nó com o menor custo da fila\n",
        "        if current_node == goal:\n",
        "            return cost  # Retorna o custo acumulado se o objetivo for alcançado\n",
        "        if current_node not in visited:\n",
        "            visited.add(current_node)\n",
        "            for neighbor, neighbor_cost in graph[current_node].items():\n",
        "                if neighbor not in visited:\n",
        "                    heapq.heappush(priority_queue, (cost + neighbor_cost, neighbor))  # Adiciona vizinhos à fila de prioridade\n",
        "    return float('inf')  # Retorna infinito se o objetivo não for alcançado\n"
      ],
      "metadata": {
        "id": "dvh7bpZ5ZyZA"
      },
      "execution_count": null,
      "outputs": []
    },
    {
      "cell_type": "code",
      "source": [
        "graph = {\n",
        "    'A': {'E': 15, 'C': 16},\n",
        "    'B': {'C': 10, 'E': 20},\n",
        "    'C': {'B': 4,  'E': 18},\n",
        "    'D': {'E': 5,  'B': 15},\n",
        "    'E': {'C': 2,  'B': 15},\n",
        "    'F': {'B': 1,  'C': 2}\n",
        "\n",
        "}"
      ],
      "metadata": {
        "id": "m99PHEZZap5w"
      },
      "execution_count": null,
      "outputs": []
    },
    {
      "cell_type": "code",
      "source": [
        "start_node = 'A'\n",
        "goal_node = 'F'\n",
        "\n",
        "shortest_path_cost = greedy_search(graph, start_node, goal_node)\n",
        "print(\"O custo do caminho mais curto de\", start_node, \"para\", goal_node, \"é:\", shortest_path_cost)\n"
      ],
      "metadata": {
        "colab": {
          "base_uri": "https://localhost:8080/"
        },
        "id": "g344QCogavoL",
        "outputId": "02ccf639-6b56-4177-8ac9-8e1bd3ff61d7"
      },
      "execution_count": null,
      "outputs": [
        {
          "output_type": "stream",
          "name": "stdout",
          "text": [
            "O custo do caminho mais curto de A para F é: inf\n"
          ]
        }
      ]
    },
    {
      "cell_type": "code",
      "source": [],
      "metadata": {
        "id": "-LiWAoj5aypo"
      },
      "execution_count": null,
      "outputs": []
    }
  ]
}